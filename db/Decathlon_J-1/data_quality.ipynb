{
 "cells": [
  {
   "cell_type": "markdown",
   "metadata": {},
   "source": [
    "Fonction pour charger la base de donnée à partir d'un fichier csv"
   ]
  },
  {
   "cell_type": "code",
   "execution_count": 21,
   "metadata": {},
   "outputs": [],
   "source": [
    "import pandas as pd\n",
    "from datetime import datetime\n",
    "from collections import defaultdict\n",
    "\n",
    "fichier = './csv/reporting_web_session_gmv.csv'\n",
    "## chargement de la db\n",
    "def load_file(f):\n",
    "    try: \n",
    "        df_load = pd.read_csv(f, sep=';')\n",
    "        if (df_load.empty):\n",
    "            print(\"le fichier est vide\\n\")\n",
    "            return\n",
    "        else:\n",
    "            print(\"le fichier est bien chargé\\n\")\n",
    "            return df_load\n",
    "    except FileNotFoundError:\n",
    "        print(\"erreur lors du chargement du fichier\\n\")\n",
    "        return"
   ]
  },
  {
   "cell_type": "markdown",
   "metadata": {},
   "source": [
    "Resultat :\n",
    "le fichier est bien chargé"
   ]
  },
  {
   "cell_type": "markdown",
   "metadata": {},
   "source": [
    "Fonction pour verifier la complétude de chacune des colonnes \n",
    "la fonction affiche un pourcentage de complétude pour chaque colonne."
   ]
  },
  {
   "cell_type": "code",
   "execution_count": 22,
   "metadata": {},
   "outputs": [],
   "source": [
    "## Complétude des données (par colonne)\n",
    "def completness(df): \n",
    "    for column in df.columns:\n",
    "        N_case = len(df[column])\n",
    "        N_case_empty = df[column].isnull().sum()\n",
    "        percent_completeness = (1 - (N_case_empty / N_case)) * 100\n",
    "        print(f\"Le pourcentage de complétude pour la colonne '{column}' vaut {percent_completeness:.2f}%\")"
   ]
  },
  {
   "cell_type": "markdown",
   "metadata": {},
   "source": [
    "Le pourcentage de complétude pour la colonne 'date_day' vaut 100.00%\n",
    "Le pourcentage de complétude pour la colonne 'current_num_week_WW_format' vaut 100.00%\n",
    "Le pourcentage de complétude pour la colonne 'country_code' vaut 100.00%\n",
    "Le pourcentage de complétude pour la colonne 'country_name' vaut 100.00%\n",
    "Le pourcentage de complétude pour la colonne 'region_name' vaut 100.00%\n",
    "Le pourcentage de complétude pour la colonne 'platform' vaut 100.00%\n",
    "Le pourcentage de complétude pour la colonne 'number_of_sessions' vaut 44.83%\n",
    "Le pourcentage de complétude pour la colonne 'number_of_session_with_product_purchased' vaut 44.83%\n",
    "Le pourcentage de complétude pour la colonne 'number_of_transaction_sales' vaut 59.30%\n",
    "Le pourcentage de complétude pour la colonne 'number_of_order_sales' vaut 59.30%\n",
    "Le pourcentage de complétude pour la colonne 'total_quantity_gmv' vaut 59.30%\n",
    "Le pourcentage de complétude pour la colonne 'sale_amount_gmv_in_euros' vaut 59.30%\n",
    "Le pourcentage de complétude pour la colonne 'cancel_amount_gmv_in_euros' vaut 59.30%\n",
    "Le pourcentage de complétude pour la colonne 'return_amount_gmv_in_euros' vaut 59.30%\n",
    "Le pourcentage de complétude pour la colonne 'net_amount_gmv_in_euros' vaut 59.30%\n",
    "Le pourcentage de complétude pour la colonne 'consent_total_quantity_gmv' vaut 59.30%\n",
    "Le pourcentage de complétude pour la colonne 'consent_number_of_transaction_sales' vaut 59.30%\n",
    "Le pourcentage de complétude pour la colonne 'consent_number_of_order_sales' vaut 59.30%\n",
    "Le pourcentage de complétude pour la colonne 'consent_sale_amount_gmv_in_euros' vaut 59.30%\n",
    "Le pourcentage de complétude pour la colonne 'consent_cancel_amount_gmv_in_euros' vaut 59.30%\n",
    "Le pourcentage de complétude pour la colonne 'consent_return_amount_gmv_in_euros' vaut 59.30%\n",
    "Le pourcentage de complétude pour la colonne 'consent_net_amount_gmv_in_euros' vaut 59.30%\n",
    "Le pourcentage de complétude pour la colonne 'created_at' vaut 100.00%\n",
    "Le pourcentage de complétude pour la colonne 'updated_at' vaut 100.00%"
   ]
  },
  {
   "cell_type": "markdown",
   "metadata": {},
   "source": [
    "Fonction pour vérifier l'unicité des données dans la table\n",
    "la fonction affiche le pourcentage de doublon"
   ]
  },
  {
   "cell_type": "code",
   "execution_count": 23,
   "metadata": {},
   "outputs": [],
   "source": [
    "def unicity(df):\n",
    "    N_doublon = df.duplicated().sum()\n",
    "    N_lignes = len(df)\n",
    "    percent_doublon = (N_doublon / N_lignes) * 100\n",
    "    \n",
    "    print(f\"Le pourcentage de doublon pour la table vaut {percent_doublon:.2f}%\")"
   ]
  },
  {
   "cell_type": "markdown",
   "metadata": {},
   "source": [
    "Resultat :\n",
    "Le pourcentage de doublon pour la table vaut 0.00%"
   ]
  },
  {
   "cell_type": "markdown",
   "metadata": {},
   "source": [
    "Fonction pour vérifier si il y a bien le jour inscrit dans chacune des lignes de la table\n",
    "la fonction affiche s'il manque des jours dans la colonne ou non et retourne Vrai ou Faux"
   ]
  },
  {
   "cell_type": "code",
   "execution_count": 24,
   "metadata": {},
   "outputs": [],
   "source": [
    "def check_value(value):\n",
    "    unique_dates = set()\n",
    "    try:\n",
    "        date = datetime.strptime(value, \"%d/%m/%Y\")\n",
    "        unique_dates.add(date.strftime(\"%d/%m/%Y\"))\n",
    "    except ValueError:\n",
    "        print(\"Date invalide\")\n",
    "\n",
    "    return unique_dates\n",
    "\n",
    "\n",
    "\n",
    "def timeliness(df):\n",
    "    dates_by_month = defaultdict(set)\n",
    "    for value in df[\"date_day\"]:\n",
    "        valid_dates = check_value(value)\n",
    "        for date in valid_dates:\n",
    "            date = datetime.strptime(date, \"%d/%m/%Y\")\n",
    "            dates_by_month[(date.year, date.month)].add(date.day)\n",
    "\n",
    "    for (year, month), days in sorted(dates_by_month.items()):\n",
    "        N_days = 31\n",
    "        if (month in [4,6,9,11]):\n",
    "            N_days = 30\n",
    "        elif (month == 2):\n",
    "            N_days = 28\n",
    "        percent = (len(days) / N_days) * 100\n",
    "        print(N_days, (year,month), days)\n",
    "        print(f\"le pourcentage de jour où les données ont été inscrites en {month, year} vaut {percent}\")"
   ]
  },
  {
   "cell_type": "markdown",
   "metadata": {},
   "source": [
    "Resultat :\n",
    "31 (2023, 1) {1, 2, 3, 4, 5, 6, 7, 8, 9, 10, 11, 12, 13, 14, 15, 16, 17, 18, 19, 20, 21, 22, 23, 24, 25, 26, 27, 28, 29, 30, 31}\n",
    "le pourcentage de jour où les données ont été inscrites en (1, 2023) vaut 100.0%\n",
    "28 (2023, 2) {1, 2, 3, 4, 5, 6, 7, 8, 9, 10, 11, 12, 13, 14, 15, 16, 17, 18, 19, 20, 21, 22, 23, 24, 25, 26, 27, 28}\n",
    "le pourcentage de jour où les données ont été inscrites en (2, 2023) vaut 100.0%\n",
    "31 (2023, 3) {1, 2, 3, 4, 5, 6, 7, 8, 9, 10, 11, 12, 13, 14, 15, 16, 17, 18, 19, 20, 21, 22, 23, 24, 25, 26, 27, 28, 29, 30, 31}\n",
    "le pourcentage de jour où les données ont été inscrites en (3, 2023) vaut 100.0%\n",
    "30 (2023, 4) {1, 2, 3, 4, 5, 6, 7, 8, 9, 10, 11, 12, 13, 14, 15, 16, 17, 18, 19, 20, 21, 22, 23, 24, 25, 26, 27, 28, 29, 30}\n",
    "le pourcentage de jour où les données ont été inscrites en (4, 2023) vaut 100.0%\n",
    "31 (2023, 5) {1, 2, 3, 4, 5, 6, 7, 8, 9, 10, 11, 12, 13, 14, 15, 16, 17, 18, 19, 20, 21, 22, 23, 24, 25, 26, 27, 28, 29, 30, 31}\n",
    "le pourcentage de jour où les données ont été inscrites en (5, 2023) vaut 100.0%\n",
    "30 (2023, 6) {1, 2, 3, 4, 5, 6, 7, 8, 9, 10, 11, 12, 13, 14, 15, 16, 17, 18, 19, 20, 21, 22, 23, 24, 25, 26, 27, 28, 29, 30}\n",
    "le pourcentage de jour où les données ont été inscrites en (6, 2023) vaut 100.0%\n",
    "31 (2023, 7) {1, 2, 3, 4, 5, 6, 7, 8, 9, 10, 11, 12, 13, 14, 15, 16, 17, 18, 19, 20, 21, 22, 23, 24, 25, 26, 27, 28, 29, 30, 31}\n",
    "le pourcentage de jour où les données ont été inscrites en (7, 2023) vaut 100.0%\n",
    "31 (2023, 8) {1, 2, 3, 4, 5, 6, 7, 8, 9, 10, 11, 12, 13, 14, 15, 16, 17, 18, 19, 20, 21, 22, 23, 24, 25, 26, 27, 28, 29, 30, 31}\n",
    "le pourcentage de jour où les données ont été inscrites en (8, 2023) vaut 100.0%\n",
    "30 (2023, 9) {1, 2, 3, 4, 5, 6, 7, 8, 9, 10, 11, 12, 13, 14, 15, 16, 17, 18, 19, 20, 21, 22, 23, 24, 25, 26, 27, 28, 29, 30}\n",
    "le pourcentage de jour où les données ont été inscrites en (9, 2023) vaut 100.0%\n",
    "31 (2023, 10) {1, 2, 3, 4, 5, 6, 7, 8, 9, 10, 11, 12, 13, 14, 15, 16, 17, 18, 19, 20, 21, 22, 23, 24, 25, 26, 27, 28, 29, 30, 31}\n",
    "le pourcentage de jour où les données ont été inscrites en (10, 2023) vaut 100.0%\n",
    "30 (2023, 11) {1, 2, 3, 4, 5, 6, 7, 8, 9, 10, 11, 12, 13, 14, 15, 16, 17, 18, 19, 20, 21, 22, 23, 24, 25, 26, 27, 28, 29, 30}\n",
    "le pourcentage de jour où les données ont été inscrites en (11, 2023) vaut 100.0%\n",
    "31 (2023, 12) {1, 2, 3, 4, 5, 6, 7, 8, 9, 10, 11, 12, 13, 14, 15, 16, 17, 18, 19, 20, 21, 22, 23, 24, 25, 26, 27, 28, 29, 30, 31}\n",
    "le pourcentage de jour où les données ont été inscrites en (12, 2023) vaut 100.0%\n",
    "31 (2024, 1) {1, 2, 3, 4, 5, 6, 7, 8, 9, 10, 11, 12, 13, 14, 15, 16, 17, 18, 19, 20, 21, 22, 23, 24, 25, 26, 27, 28, 29, 30, 31}\n",
    "le pourcentage de jour où les données ont été inscrites en (1, 2024) vaut 100.0%\n",
    "28 (2024, 2) {1, 2, 3, 4, 5, 6, 7, 8, 9, 10, 11, 12, 13, 14, 15, 16, 17, 18, 19, 20, 21, 22, 23, 24, 25, 26, 27, 28, 29}\n",
    "le pourcentage de jour où les données ont été inscrites en (2, 2024) vaut 103.57142857142858%\n",
    "31 (2024, 3) {1, 2, 3, 4, 5, 6, 7, 8, 9, 10, 11, 12, 13, 14, 15, 16, 17, 18, 19, 20, 21, 22, 23, 24, 25, 26, 27, 28, 29, 30, 31}\n",
    "le pourcentage de jour où les données ont été inscrites en (3, 2024) vaut 100.0%\n",
    "30 (2024, 4) {1, 2, 3, 4, 5, 6, 7, 8, 9, 10, 11, 12, 13, 14, 15, 16, 17, 18, 19, 20, 21, 22, 23, 24, 25, 26, 27, 28, 29, 30}\n",
    "le pourcentage de jour où les données ont été inscrites en (4, 2024) vaut 100.0%\n",
    "31 (2024, 5) {1, 2, 3, 4, 5, 6, 7, 8, 9, 10, 11, 12, 13, 14, 15, 16, 17, 18, 19, 20, 21, 22, 23, 24, 25, 26, 27, 28, 29, 30, 31}\n",
    "le pourcentage de jour où les données ont été inscrites en (5, 2024) vaut 100.0%\n",
    "30 (2024, 6) {1, 2, 3, 4, 5, 6, 7, 8, 9, 10, 11, 12, 13, 14, 15, 16, 17, 18, 19, 20, 21, 22, 23, 24, 25, 26, 27, 28, 29, 30}\n",
    "le pourcentage de jour où les données ont été inscrites en (6, 2024) vaut 100.0%\n",
    "31 (2024, 7) {1, 2, 3, 4, 5, 6, 7, 8, 9, 10, 11, 12, 13, 14, 15, 16, 17, 18, 19, 20, 21, 22, 23, 24, 25, 26, 27, 28, 29, 30, 31}\n",
    "le pourcentage de jour où les données ont été inscrites en (7, 2024) vaut 100.0%\n",
    "31 (2024, 8) {1, 2, 3, 4, 5, 6, 7, 8, 9, 10, 11, 12, 13, 14, 15, 16, 17, 18, 19, 20, 21, 22, 23, 24, 25, 26, 27, 28, 29, 30, 31}\n",
    "le pourcentage de jour où les données ont été inscrites en (8, 2024) vaut 100.0%\n",
    "30 (2024, 9) {1, 2, 3, 4, 5, 6, 7, 8, 9, 10, 11, 12, 13, 14, 15, 16, 17, 18, 19, 20, 21, 22, 23, 24, 25, 26, 27, 28, 29, 30}\n",
    "le pourcentage de jour où les données ont été inscrites en (9, 2024) vaut 100.0%\n",
    "31 (2024, 10) {1, 2, 3, 4, 5, 6, 7, 8, 9, 10, 11, 12, 13, 14, 15, 16, 17, 18, 19, 20, 21, 22, 23, 24, 25, 26, 27, 28, 29, 30, 31}\n",
    "le pourcentage de jour où les données ont été inscrites en (10, 2024) vaut 100.0%\n",
    "30 (2024, 11) {1, 2, 3, 4, 5, 6, 7, 8, 9, 10, 11, 12, 13, 14, 15, 16, 17, 18, 19, 20, 21, 22, 23, 24, 25, 26, 27, 28, 29, 30}\n",
    "le pourcentage de jour où les données ont été inscrites en (11, 2024) vaut 100.0%\n",
    "31 (2024, 12) {1, 2, 3, 4, 5, 6, 7, 8, 9, 10, 11, 12, 13, 14, 15, 16, 17, 18, 19, 20, 21, 22, 23, 24, 25, 26, 27, 28, 29, 30, 31}\n",
    "le pourcentage de jour où les données ont été inscrites en (12, 2024) vaut 100.0%\n",
    "31 (2025, 1) {1, 2, 3, 4, 5, 6}\n",
    "le pourcentage de jour où les données ont été inscrites en (1, 2025) vaut 19.35483870967742%\n"
   ]
  },
  {
   "cell_type": "code",
   "execution_count": null,
   "metadata": {},
   "outputs": [],
   "source": [
    "def result():\n",
    "    df = load_file(fichier)\n",
    "    completeness_per_country_r = completeness(df)\n",
    "    uniqueness_per_country_r = uniqueness(df)\n",
    "    timeliness_per_country_r = timeliness(df)\n",
    "    results_data = []\n",
    "    for key, values in completeness_per_country_r.items():\n",
    "        results_data.append({\n",
    "            \"nom_de_la_table\": \"reporting\",\n",
    "            \"result_type\": \"completeness\",\n",
    "            \"percentage\": values[\"completeness_percentage\"],\n",
    "            \"commentaire\": \"Taux de complétude des données\"\n",
    "        })\n",
    "        results_data.append({\n",
    "            \"nom_de_la_table\": \"reporting\",\n",
    "            \"result_type\": \"uniqueness\",\n",
    "            \"percentage\": uniqueness_per_country_r,\n",
    "            \"commentaire\": \"Taux d'unicité des données\"\n",
    "        })\n",
    "    # Ajouter les résultats de timeliness\n",
    "    for key, values in timeliness_per_country_r.items():\n",
    "        print(values)\n",
    "        results_data.append({\n",
    "            \"nom_de_la_table\": \"reporting\",\n",
    "            \"result_type\": \"timeliness\",\n",
    "            \"percentage\": values[\"timeliness_percentage\"],\n",
    "            \"commentaire\": \"Taux de ponctualité des données\"\n",
    "        })\n",
    "\n",
    "    results_df = pd.DataFrame(results_data)\n",
    "\n",
    "        # Exporter vers un fichier Excel\n",
    "    results_df.to_excel(\"resultats_tot.xlsx\", index=False)\n",
    "\n",
    "    print(\"Fichier Excel créé : resultats_par_pays.xlsx\")"
   ]
  },
  {
   "cell_type": "markdown",
   "metadata": {},
   "source": [
    "Fonction utilitaire pour manipuler les fonctions grâce à un menu\n",
    "il suffit de rentrer les valeurs (1, 2 ou 3)"
   ]
  },
  {
   "cell_type": "code",
   "execution_count": 25,
   "metadata": {},
   "outputs": [
    {
     "name": "stdout",
     "output_type": "stream",
     "text": [
      "le fichier est bien chargé\n",
      "\n",
      "toutes les cases de dat_day ont été remplies\n"
     ]
    }
   ],
   "source": [
    "def menu():\n",
    "    df = load_file(fichier)\n",
    "    switch = {\n",
    "        1: lambda: completness(df),\n",
    "        2: lambda: unicity(df),\n",
    "        3: lambda: timeliness(df),\n",
    "    }\n",
    "    try:\n",
    "        choix = int(input(\"complétude tapez 1,\\n unicité tapez 2,\\n timeliness tapez 3\\n\"))\n",
    "    except ValueError:\n",
    "        print(\"erreur lors de la saisie du nombre\")\n",
    "        return\n",
    "    action = switch.get(choix, lambda: print(\"Option invalide.\"))\n",
    "    action() \n",
    "\n",
    "menu()"
   ]
  }
 ],
 "metadata": {
  "kernelspec": {
   "display_name": "dqenv",
   "language": "python",
   "name": "python3"
  },
  "language_info": {
   "codemirror_mode": {
    "name": "ipython",
    "version": 3
   },
   "file_extension": ".py",
   "mimetype": "text/x-python",
   "name": "python",
   "nbconvert_exporter": "python",
   "pygments_lexer": "ipython3",
   "version": "3.12.7"
  }
 },
 "nbformat": 4,
 "nbformat_minor": 2
}
